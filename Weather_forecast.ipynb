{
  "nbformat": 4,
  "nbformat_minor": 0,
  "metadata": {
    "colab": {
      "provenance": [],
      "authorship_tag": "ABX9TyN9mwuf4r1TAWaTFwkddNNy",
      "include_colab_link": true
    },
    "kernelspec": {
      "name": "python3",
      "display_name": "Python 3"
    },
    "language_info": {
      "name": "python"
    }
  },
  "cells": [
    {
      "cell_type": "markdown",
      "metadata": {
        "id": "view-in-github",
        "colab_type": "text"
      },
      "source": [
        "<a href=\"https://colab.research.google.com/github/priyankagunda123/python-intern/blob/main/Weather_forecast.ipynb\" target=\"_parent\"><img src=\"https://colab.research.google.com/assets/colab-badge.svg\" alt=\"Open In Colab\"/></a>"
      ]
    },
    {
      "cell_type": "code",
      "execution_count": null,
      "metadata": {
        "id": "C43rLZNqJugh"
      },
      "outputs": [],
      "source": [
        "pip install requests"
      ]
    },
    {
      "cell_type": "code",
      "source": [
        "\n",
        "import requests\n",
        "\n",
        "print(\"\\t\\tWelcome to the Weather Forecaster!\\n\\n\")\n",
        "print(\"Just Enter the City you want the weather report for and click on the button! It's that simple!\\n\\n\")\n",
        "\n",
        "city_name = input(\"Enter the name of the City : \")\n",
        "print(\"\\n\\n\")\n",
        "\n",
        "# Function to Generate Report\n",
        "def Gen_report(C):\n",
        "    url = 'https://wttr.in/{}'.format(C)\n",
        "    try:\n",
        "        data = requests.get(url)\n",
        "        T = data.text\n",
        "    except:\n",
        "        T = \"Error Occurred\"\n",
        "    print(T)\n",
        "\n",
        "Gen_report(city_name)\n"
      ],
      "metadata": {
        "id": "9Yi_gXlbLP_u"
      },
      "execution_count": null,
      "outputs": []
    }
  ]
}